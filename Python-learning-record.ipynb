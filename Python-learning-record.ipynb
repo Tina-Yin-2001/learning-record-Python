{
 "cells": [
  {
   "cell_type": "markdown",
   "metadata": {},
   "source": [
    "# Python编程：从入门到实践"
   ]
  },
  {
   "cell_type": "markdown",
   "metadata": {},
   "source": [
    "1.  修改大小写\n",
    "* title()首字母大写"
   ]
  },
  {
   "cell_type": "code",
   "execution_count": 1,
   "metadata": {},
   "outputs": [
    {
     "name": "stdout",
     "output_type": "stream",
     "text": [
      "Abc\n"
     ]
    }
   ],
   "source": [
    "name=\"abc\"\n",
    "name=name.title()\n",
    "print(name)"
   ]
  },
  {
   "cell_type": "markdown",
   "metadata": {},
   "source": [
    "* upper(全部大写）\n",
    "* lower（）全部小写"
   ]
  },
  {
   "cell_type": "code",
   "execution_count": 2,
   "metadata": {},
   "outputs": [
    {
     "name": "stdout",
     "output_type": "stream",
     "text": [
      "ABC\n"
     ]
    }
   ],
   "source": [
    "name=\"aBc\"\n",
    "name=name.upper()\n",
    "print(name)"
   ]
  },
  {
   "cell_type": "code",
   "execution_count": 3,
   "metadata": {},
   "outputs": [
    {
     "name": "stdout",
     "output_type": "stream",
     "text": [
      "abc\n"
     ]
    }
   ],
   "source": [
    "name=name.lower()\n",
    "print(name)"
   ]
  },
  {
   "cell_type": "markdown",
   "metadata": {},
   "source": [
    "2. 合并字符串可以直接用+（拼接）\n",
    "3. 删除空白\n",
    "* 删除字符串末尾的空白rstrip()\n",
    "* 删除字符串开头的空白lstrip()\n",
    "* 删除字符串两头的空白strip()"
   ]
  },
  {
   "cell_type": "code",
   "execution_count": 4,
   "metadata": {},
   "outputs": [
    {
     "data": {
      "text/plain": [
       "'abc'"
      ]
     },
     "execution_count": 4,
     "metadata": {},
     "output_type": "execute_result"
    }
   ],
   "source": [
    "a=\"abc \"\n",
    "a.rstrip()\n",
    "#只是暂时删除，如果再输出a，那么还是有空格的\n",
    "#再加一步赋值就可以永久改变了"
   ]
  },
  {
   "cell_type": "markdown",
   "metadata": {},
   "source": [
    "4. 数字\n",
    "* 将数字强制转化成字符串用str()\n",
    "* 如果要输出数字和字符串的形式是会报错的，但是可以把数字修改成字符串\n",
    "5. 注释\n",
    "* 单行注释#\n",
    "### 列表：有序集合\n",
    "* []表示列表，用，分隔元素\n",
    "1. 访问列表的元素"
   ]
  },
  {
   "cell_type": "code",
   "execution_count": 5,
   "metadata": {},
   "outputs": [
    {
     "name": "stdout",
     "output_type": "stream",
     "text": [
      "trek\n"
     ]
    }
   ],
   "source": [
    "bicycles=['trek','cannondale','redline','specialized']\n",
    "print(bicycles[0])"
   ]
  },
  {
   "cell_type": "markdown",
   "metadata": {},
   "source": [
    "* //这样的返回值是没有逗号和方括号的\n",
    "* 将索引指定为-1，那么就可以返回列表中最后一个元素，在不知道列表长度的时候可以这么用，-2就是倒数第二个，-3就是倒数第三个……\n",
    "2. 修改列表元素\n",
    "* 添加元素\n",
    "* append（元素）//可以将该元素添加到列表的末尾，可以先创建一个空列表，然后逐步向里面添加\n",
    "* insert（位置，元素）//可以把该元素加到某确定的位置，后面的元素都依次往后挪一个\n",
    "* 删除元素\n",
    "* 知道想要删除的元素的位置可以使用del语句"
   ]
  },
  {
   "cell_type": "code",
   "execution_count": 6,
   "metadata": {},
   "outputs": [
    {
     "name": "stdout",
     "output_type": "stream",
     "text": [
      "['a', 'c']\n"
     ]
    }
   ],
   "source": [
    "name=['a','b','c']\n",
    "del name[1]\n",
    "print(name)"
   ]
  },
  {
   "cell_type": "markdown",
   "metadata": {},
   "source": [
    "* pop（）删除元素//弹出元素\n",
    "* 删除列表最末尾的元素，并且可以接着使用它"
   ]
  },
  {
   "cell_type": "code",
   "execution_count": 7,
   "metadata": {},
   "outputs": [
    {
     "name": "stdout",
     "output_type": "stream",
     "text": [
      "['a', 'b', 'c']\n"
     ]
    }
   ],
   "source": [
    "name=['a','b','c']\n",
    "print(name)"
   ]
  },
  {
   "cell_type": "code",
   "execution_count": 8,
   "metadata": {},
   "outputs": [
    {
     "name": "stdout",
     "output_type": "stream",
     "text": [
      "['a', 'b']\n",
      "c\n"
     ]
    }
   ],
   "source": [
    "name=['a','b','c']\n",
    "name_=name.pop()\n",
    "print(name)\n",
    "print(name_)"
   ]
  },
  {
   "cell_type": "markdown",
   "metadata": {},
   "source": [
    "* pop（位置）//可以弹出某一个位置的元素\n",
    "* 不知道要删除第几个，但是知道要删除谁用remove()\n",
    "* 用remove删除后也可以继续使用他的值\n",
    "* 如果想要删除的值有很多，remove只能删除第一个出现的\n",
    "### 组织列表\n",
    "* 用sort（）对列表进行永久性排序"
   ]
  },
  {
   "cell_type": "code",
   "execution_count": 9,
   "metadata": {},
   "outputs": [
    {
     "name": "stdout",
     "output_type": "stream",
     "text": [
      "[1, 2, 3, 4]\n",
      "['abc', 'bad', 'cba']\n"
     ]
    }
   ],
   "source": [
    "num=[1,2,3,4]\n",
    "name.sort()\n",
    "print(num)\n",
    "str1=['abc','cba','bad']\n",
    "str1.sort()\n",
    "print(str1)\n"
   ]
  },
  {
   "cell_type": "markdown",
   "metadata": {},
   "source": [
    "* 对字母和对数字都按照字典序排列，但是排完以后不能恢复原来的顺序。\n",
    "* 可以进行相反顺序排列，在参数里加上reverse=True"
   ]
  },
  {
   "cell_type": "code",
   "execution_count": 10,
   "metadata": {},
   "outputs": [
    {
     "name": "stdout",
     "output_type": "stream",
     "text": [
      "['cba', 'bad', 'abc']\n"
     ]
    }
   ],
   "source": [
    "str1.sort(reverse=True)\n",
    "print(str1)"
   ]
  },
  {
   "cell_type": "markdown",
   "metadata": {},
   "source": [
    "* 用sorted（）进行临时排序，传递reverse=True也可以反序排列!"
   ]
  },
  {
   "cell_type": "code",
   "execution_count": 11,
   "metadata": {},
   "outputs": [
    {
     "name": "stdout",
     "output_type": "stream",
     "text": [
      "['cba', 'bad', 'abc']\n"
     ]
    }
   ],
   "source": [
    "sorted(str1)\n",
    "print(str1)"
   ]
  },
  {
   "cell_type": "markdown",
   "metadata": {},
   "source": [
    "* 使用方法和sort不同\n",
    "* 倒着打印列表，反转列表里的元素，和字母没有关系，永久改变"
   ]
  },
  {
   "cell_type": "code",
   "execution_count": 12,
   "metadata": {},
   "outputs": [
    {
     "name": "stdout",
     "output_type": "stream",
     "text": [
      "['abc', 'bad', 'cba']\n"
     ]
    }
   ],
   "source": [
    "str1.reverse()\n",
    "print(str1)"
   ]
  },
  {
   "cell_type": "markdown",
   "metadata": {},
   "source": [
    "3. 确定列表长度\n",
    "* len（列表名)"
   ]
  },
  {
   "cell_type": "code",
   "execution_count": 13,
   "metadata": {},
   "outputs": [
    {
     "data": {
      "text/plain": [
       "3"
      ]
     },
     "execution_count": 13,
     "metadata": {},
     "output_type": "execute_result"
    }
   ],
   "source": [
    "len(str1)"
   ]
  },
  {
   "cell_type": "markdown",
   "metadata": {},
   "source": [
    "### 操作列表\n",
    "1. for循环"
   ]
  },
  {
   "cell_type": "code",
   "execution_count": 14,
   "metadata": {},
   "outputs": [
    {
     "name": "stdout",
     "output_type": "stream",
     "text": [
      "1\n",
      "2\n",
      "3\n",
      "4\n"
     ]
    }
   ],
   "source": [
    "nums=[1,2,3,4]\n",
    "for num in nums:\n",
    "    print(num)"
   ]
  },
  {
   "cell_type": "markdown",
   "metadata": {},
   "source": [
    "注意：1. 冒号2.缩进\n",
    "2. 创建数值列表\n",
    "* range（） 函数"
   ]
  },
  {
   "cell_type": "code",
   "execution_count": 15,
   "metadata": {},
   "outputs": [
    {
     "name": "stdout",
     "output_type": "stream",
     "text": [
      "1\n",
      "2\n",
      "3\n",
      "4\n"
     ]
    }
   ],
   "source": [
    "for value in range(1,5):\n",
    "    print(value)"
   ]
  },
  {
   "cell_type": "markdown",
   "metadata": {},
   "source": [
    "* 1，5其实是输出的1，2，3，4\n",
    "* 想输出1-5，其实是range（1，6）\n",
    "* 用range函数创建数字列表，可以用函数list直接将range的结果转化成列表，将range(),作为list的参数"
   ]
  },
  {
   "cell_type": "code",
   "execution_count": 16,
   "metadata": {},
   "outputs": [
    {
     "name": "stdout",
     "output_type": "stream",
     "text": [
      "[1, 2, 3, 4]\n"
     ]
    }
   ],
   "source": [
    "num=list(range(1,5))\n",
    "print(num)"
   ]
  },
  {
   "cell_type": "code",
   "execution_count": 17,
   "metadata": {},
   "outputs": [
    {
     "name": "stdout",
     "output_type": "stream",
     "text": [
      "[1, 3, 5, 7, 9]\n"
     ]
    }
   ],
   "source": [
    "num=list(range(1,10,2))\n",
    "#指定步长,假设为两步\n",
    "print(num)"
   ]
  },
  {
   "cell_type": "code",
   "execution_count": 18,
   "metadata": {},
   "outputs": [
    {
     "name": "stdout",
     "output_type": "stream",
     "text": [
      "[1, 4, 9, 16, 25, 36, 49, 64, 81, 100]\n"
     ]
    }
   ],
   "source": [
    "nums=[]\n",
    "for num in range(1,11):\n",
    "    num=num**2\n",
    "    nums.append(num)\n",
    "print(nums)"
   ]
  },
  {
   "cell_type": "markdown",
   "metadata": {},
   "source": [
    "* min（）//查找最小值\n",
    "* max（）//查找最大值\n",
    "* sum（）//求和\n",
    "### 切片"
   ]
  },
  {
   "cell_type": "code",
   "execution_count": 19,
   "metadata": {},
   "outputs": [
    {
     "name": "stdout",
     "output_type": "stream",
     "text": [
      "[8, 27]\n"
     ]
    }
   ],
   "source": [
    "nums=[]\n",
    "for num in range(1,11):\n",
    "    nums.append(num**3)\n",
    "print(nums[1:3])"
   ]
  },
  {
   "cell_type": "markdown",
   "metadata": {},
   "source": [
    "* 某个列表的切片还是列表，相当于原列表的子集\n",
    "* 如果开头或结尾没有指出索引，就默认从头开始/读到结尾，索引可以用负数，表示倒数第几个"
   ]
  },
  {
   "cell_type": "code",
   "execution_count": 20,
   "metadata": {},
   "outputs": [
    {
     "name": "stdout",
     "output_type": "stream",
     "text": [
      "[8, 27]\n",
      "27\n",
      "64\n",
      "125\n",
      "216\n",
      "343\n"
     ]
    }
   ],
   "source": [
    "nums=[]\n",
    "for num in range(1,11):\n",
    "    nums.append(num**3)\n",
    "print(nums[1:3])\n",
    "for num in nums[2:7]:\n",
    "    print(num)"
   ]
  },
  {
   "cell_type": "code",
   "execution_count": 21,
   "metadata": {},
   "outputs": [
    {
     "name": "stdout",
     "output_type": "stream",
     "text": [
      "[1, 8, 27, 64, 125, 216, 343, 512, 729, 1000]\n"
     ]
    }
   ],
   "source": [
    "#复制列表的方法：创建一个切片【：】从开头到结尾\n",
    "aaa=nums[:]\n",
    "print(aaa)"
   ]
  },
  {
   "cell_type": "markdown",
   "metadata": {},
   "source": [
    "4. 元组\n",
    "* 不可以改变的列表称为元组\n",
    "* 元组用小括号\n",
    "* 若要修改的话，只能重新定义一遍\n",
    "### if语句"
   ]
  },
  {
   "cell_type": "code",
   "execution_count": 22,
   "metadata": {},
   "outputs": [
    {
     "name": "stdout",
     "output_type": "stream",
     "text": [
      "APPLE\n",
      "Pear\n",
      "Banana\n"
     ]
    }
   ],
   "source": [
    "my_fruits=(\"apple\",\"pear\",\"banana\")\n",
    "for value in my_fruits:\n",
    "    if value==\"apple\":\n",
    "        print(value.upper())\n",
    "    else:\n",
    "        print(value.title())"
   ]
  },
  {
   "cell_type": "code",
   "execution_count": 23,
   "metadata": {},
   "outputs": [
    {
     "name": "stdout",
     "output_type": "stream",
     "text": [
      "False\n",
      "True\n",
      "True\n"
     ]
    }
   ],
   "source": [
    "a=1\n",
    "b=3\n",
    "c=6\n",
    "print(a==1 and b==3 and c==1)\n",
    "print(a==1 and b==3 and c==6)\n",
    "print(a>=1 or b==1)\n",
    "#用and和or检查多个条件"
   ]
  },
  {
   "cell_type": "code",
   "execution_count": 24,
   "metadata": {},
   "outputs": [
    {
     "name": "stdout",
     "output_type": "stream",
     "text": [
      "True\n",
      "False\n"
     ]
    }
   ],
   "source": [
    "nums=[1,3,2,5,4,5]\n",
    "print(1 in nums)\n",
    "print(1 not in nums)\n",
    "#in检查某些特定值是否在列表中\n",
    "#not in 是检查某些特定值是否不包含在列表中"
   ]
  },
  {
   "cell_type": "markdown",
   "metadata": {},
   "source": [
    "* 布尔表达式结果要么是True要么是False\n",
    "* if-elif-else结构（多次条件测试）//从上到下满足一个就会跳过剩下所有的\n",
    "* if+列表名 可以检查列表是不是空的"
   ]
  },
  {
   "cell_type": "markdown",
   "metadata": {},
   "source": [
    "### 字典\n",
    "* 字典是一系列键—值对。每个键都与一个值相关联，你可以使用键来访问与之相关联的值。\n",
    "* 字典用放在花括号{}中的一系列键—值对表示\n",
    "* 要获取与键相关联的值，可依次指定字典名和放在方括号内的键\n"
   ]
  },
  {
   "cell_type": "code",
   "execution_count": null,
   "metadata": {},
   "outputs": [],
   "source": []
  },
  {
   "cell_type": "code",
   "execution_count": 25,
   "metadata": {},
   "outputs": [
    {
     "name": "stdout",
     "output_type": "stream",
     "text": [
      "green\n",
      "you just earned 5 points!\n"
     ]
    }
   ],
   "source": [
    "aline_0={}#创建空字典\n",
    "aline_0={'color':'green','points':'5'}\n",
    "print(aline_0['color'])\n",
    "print(\"you just earned \"+ aline_0['points']+\" points!\")"
   ]
  },
  {
   "cell_type": "markdown",
   "metadata": {},
   "source": [
    "### 添加键值对\n",
    "* 要添加键—值对，可依次指定字典名、用方括号括起的键和相关联的值。\n",
    "* 键—值对的排列顺序与添加顺序不同。Python不关心键—值对的添加顺序，而只关心键和值之间的关联关系。"
   ]
  },
  {
   "cell_type": "code",
   "execution_count": 26,
   "metadata": {},
   "outputs": [
    {
     "name": "stdout",
     "output_type": "stream",
     "text": [
      "{'color': 'green', 'points': '5', 'x_position': 0, 'y_position': 25}\n"
     ]
    }
   ],
   "source": [
    "aline_0['x_position']=0\n",
    "aline_0['y_position']=25\n",
    "print(aline_0)"
   ]
  },
  {
   "cell_type": "markdown",
   "metadata": {},
   "source": [
    "### 修改字典中的值\n"
   ]
  },
  {
   "cell_type": "code",
   "execution_count": 27,
   "metadata": {},
   "outputs": [
    {
     "name": "stdout",
     "output_type": "stream",
     "text": [
      "{'color': 'yellow', 'points': '5', 'x_position': 0, 'y_position': 25}\n"
     ]
    }
   ],
   "source": [
    "aline_0['color']='yellow'\n",
    "print(aline_0)"
   ]
  },
  {
   "cell_type": "markdown",
   "metadata": {},
   "source": [
    "### 删除键值对\n",
    "* 使用del语句将相应的键—值对彻底删除"
   ]
  },
  {
   "cell_type": "code",
   "execution_count": 28,
   "metadata": {},
   "outputs": [
    {
     "name": "stdout",
     "output_type": "stream",
     "text": [
      "{'color': 'yellow', 'x_position': 0, 'y_position': 25}\n"
     ]
    }
   ],
   "source": [
    "del aline_0['points']\n",
    "print(aline_0)"
   ]
  },
  {
   "cell_type": "code",
   "execution_count": 29,
   "metadata": {},
   "outputs": [
    {
     "name": "stdout",
     "output_type": "stream",
     "text": [
      "first_name is Yin,last name is Tian\n"
     ]
    }
   ],
   "source": [
    "info={'first_name':'Yin',\n",
    "     'last_name':'Tian',\n",
    "     'age':19,\n",
    "     'city':'Qingdao'}\n",
    "print(\"first_name is \"+info['first_name']+\n",
    "     \",last name is \"+info['last_name'])"
   ]
  },
  {
   "cell_type": "code",
   "execution_count": 30,
   "metadata": {},
   "outputs": [
    {
     "name": "stdout",
     "output_type": "stream",
     "text": [
      "happy\tgaoxing\n"
     ]
    }
   ],
   "source": [
    "words={\"happy\":\"gaoxing\",\n",
    "      \"sad\":\"bugaoxing\",\n",
    "      \"angry\":\"shengqi\",\n",
    "      \"easy\":\"qingsong\"}\n",
    "print(\"happy\\t\"+words['happy'])"
   ]
  },
  {
   "cell_type": "markdown",
   "metadata": {},
   "source": [
    "### 遍历字典\n",
    "* 可遍历字典的所有键—值对、键或值。\n",
    "* 要编写用于遍历字典的for循环，可声明两个变量，用于存储键—值对中的键和值。对于这两个变量，可使用任何名称。\n",
    "* for语句的第二部分包含字典名和方法items()，它返回一个键—值对列表。"
   ]
  },
  {
   "cell_type": "code",
   "execution_count": 31,
   "metadata": {},
   "outputs": [
    {
     "name": "stdout",
     "output_type": "stream",
     "text": [
      "Key:happy\n",
      "Value:gaoxing\n",
      "Key:sad\n",
      "Value:bugaoxing\n",
      "Key:angry\n",
      "Value:shengqi\n",
      "Key:easy\n",
      "Value:qingsong\n"
     ]
    }
   ],
   "source": [
    "for key,value in words.items():\n",
    "    print(\"Key:\"+key)\n",
    "    print(\"Value:\"+value)"
   ]
  },
  {
   "cell_type": "markdown",
   "metadata": {},
   "source": [
    "* 在不需要使用字典中的值时，方法keys()很有用。\n",
    "* 遍历字典时，会默认遍历所有的键\n",
    "* 如果你感兴趣的主要是字典包含的值，可使用方法values()，它返回一个值列表，而不包含任何键\n",
    "* 这种做法提取字典中所有的值，而没有考虑是否重复。为剔除重复项，可使用集合（set）。集合类似于列表，但每个元素都必须是独一无二的："
   ]
  },
  {
   "cell_type": "code",
   "execution_count": 32,
   "metadata": {},
   "outputs": [
    {
     "name": "stdout",
     "output_type": "stream",
     "text": [
      "happy\n",
      "sad\n",
      "angry\n",
      "easy\n",
      "aaa\n",
      "Gaoxing\n",
      "Bugaoxing\n",
      "Shengqi\n",
      "Qingsong\n",
      "bbb\n",
      "Gaoxing\n",
      "Bugaoxing\n",
      "Qingsong\n"
     ]
    }
   ],
   "source": [
    "for key in words.keys():\n",
    "    print(key)\n",
    "if 'happy' in words.keys():\n",
    "    print(\"aaa\")\n",
    "for value in words.values():\n",
    "    print(value.title())\n",
    "print(\"bbb\")\n",
    "words['angry']='gaoxing'\n",
    "for value in set(words.values()):\n",
    "    print(value.title())"
   ]
  },
  {
   "cell_type": "markdown",
   "metadata": {},
   "source": [
    "按顺序遍历字典中的所有键\n",
    "* 要以特定的顺序返回元素，一种办法是在for循环中对返回的键进行排序。为此，可使用函数sorted()来获得按特定顺序排列的键列表的副本："
   ]
  },
  {
   "cell_type": "code",
   "execution_count": 33,
   "metadata": {},
   "outputs": [
    {
     "name": "stdout",
     "output_type": "stream",
     "text": [
      "angry\n",
      "easy\n",
      "happy\n",
      "sad\n"
     ]
    }
   ],
   "source": [
    "for word in sorted(words.keys()):\n",
    "    print(word)"
   ]
  },
  {
   "cell_type": "code",
   "execution_count": 34,
   "metadata": {},
   "outputs": [
    {
     "name": "stdout",
     "output_type": "stream",
     "text": [
      "\"the Nile runs through Egypt\"\n",
      "\"the Huanghe runs through China\"\n",
      "nile\n",
      "huanghe\n",
      "egypt\n",
      "China\n"
     ]
    }
   ],
   "source": [
    "river={'nile':'egypt','huanghe':'China'}\n",
    "for key,value in river.items():\n",
    "    print('\"the '+key.title()+' runs through '+value.title()+'\"')\n",
    "for key in river:\n",
    "    print(key)\n",
    "for value in river.values():\n",
    "    print(value)"
   ]
  },
  {
   "cell_type": "markdown",
   "metadata": {},
   "source": [
    "* 一种办法是创建一个外星人列表，其中每个外星人都是一个字典，包含有关该外星人的各种信息。\n",
    "* range()"
   ]
  },
  {
   "cell_type": "code",
   "execution_count": 35,
   "metadata": {},
   "outputs": [
    {
     "name": "stdout",
     "output_type": "stream",
     "text": [
      "{'color': 'yellow', 'points': 5, 'speed': 'medium'}\n",
      "{'color': 'yellow', 'points': 5, 'speed': 'medium'}\n",
      "{'color': 'yellow', 'points': 5, 'speed': 'medium'}\n",
      "{'color': 'green', 'points': 5, 'speed': 'slow'}\n",
      "{'color': 'green', 'points': 5, 'speed': 'slow'}\n",
      "30\n"
     ]
    }
   ],
   "source": [
    "alines=[]\n",
    "for alien_number in range(30):\n",
    "#range()返回一系列数字，其唯一的用途是告诉Python我们要重复这个循环多少次。\n",
    "    new_aline={'color':'green','points':5,'speed':'slow'}\n",
    "    alines.append(new_aline)\n",
    "for aline in alines[:3]:\n",
    "    if aline[\"color\"]=='green':\n",
    "        aline['color']='yellow'\n",
    "        aline['points']=5\n",
    "        aline['speed']='medium'\n",
    "    elif aline['color']=='yellow':\n",
    "        alien['color']='red'\n",
    "        alien['points']=15\n",
    "        aline['speed']='fast'\n",
    "for aline in alines[:5]:\n",
    "    print(aline)\n",
    "print(len(alines))"
   ]
  },
  {
   "cell_type": "markdown",
   "metadata": {},
   "source": [
    "每当需要在字典中将一个键关联到多个值时，都可以在字典中嵌套一个列表。"
   ]
  },
  {
   "cell_type": "code",
   "execution_count": 36,
   "metadata": {},
   "outputs": [
    {
     "name": "stdout",
     "output_type": "stream",
     "text": [
      "\n",
      "Yin's favorite languages are:\n",
      "\tc\n",
      "\tcpp\n",
      "\tpython\n",
      "\n",
      "Wu's favorite languages are:python\n"
     ]
    }
   ],
   "source": [
    "#important\n",
    "languages={\n",
    "    'Yin':['c','cpp','python'],\n",
    "    'Wu':['cpp']\n",
    "}\n",
    "for name , language in languages.items():\n",
    "    if(len(language)==1):\n",
    "        print('\\n'+name.title()+\"'s favorite languages are:\"+lan)\n",
    "    else:\n",
    "        print('\\n'+name.title()+\"'s favorite languages are:\")\n",
    "        for lan in language:\n",
    "            print(\"\\t\"+lan)"
   ]
  },
  {
   "cell_type": "markdown",
   "metadata": {},
   "source": [
    "* 可在字典中嵌套字典，但这样做时，代码可能很快复杂起来。"
   ]
  },
  {
   "cell_type": "code",
   "execution_count": 37,
   "metadata": {},
   "outputs": [
    {
     "name": "stdout",
     "output_type": "stream",
     "text": [
      "\n",
      "Username:aeinstein\n",
      "\tFull name: Albert Einstein\n",
      "\tLocation: Princeton\n",
      "\n",
      "Username:mcurie\n",
      "\tFull name: Marie Curie\n",
      "\tLocation: Paris\n"
     ]
    }
   ],
   "source": [
    "users={\n",
    "    'aeinstein':{\n",
    "        'first':'albert',\n",
    "        'last':'einstein',\n",
    "        'location':'princeton',\n",
    "    },\n",
    "    'mcurie':{\n",
    "        'first':'marie',\n",
    "        'last':'curie',\n",
    "        'location':'paris',\n",
    "    },\n",
    "}\n",
    "for username,userinfo in users.items():\n",
    "    print(\"\\nUsername:\"+username)\n",
    "    full_name=userinfo['first']+\" \"+userinfo['last']\n",
    "    location=userinfo['location']\n",
    "    print(\"\\tFull name: \"+full_name.title())\n",
    "    print(\"\\tLocation: \"+location.title())"
   ]
  },
  {
   "cell_type": "code",
   "execution_count": 38,
   "metadata": {},
   "outputs": [
    {
     "name": "stdout",
     "output_type": "stream",
     "text": [
      "{'first_name': 'yin', 'last_name': 'tian', 'age': 19, 'city': 'Qingdao'}\n",
      "yintian\n",
      "Qingdao\n",
      "19\n",
      "{'first_name': 'wu', 'last_name': 'yanbo', 'age': '19', 'city': 'Qingdao'}\n",
      "wuyanbo\n",
      "Qingdao\n",
      "19\n",
      "{'first_name': 'chen', 'last_name': 'weiting', 'age': '32', 'city': 'guangzhou'}\n",
      "chenweiting\n",
      "guangzhou\n",
      "32\n"
     ]
    }
   ],
   "source": [
    "people1={'first_name':'yin','last_name':'tian','age':19,'city':'Qingdao'}\n",
    "people2={'first_name':'wu','last_name':'yanbo','age':'19','city':'Qingdao'}\n",
    "people3={'first_name':'chen','last_name':'weiting','age':'32','city':'guangzhou'}\n",
    "people=[people1,people2,people3]\n",
    "for values in people:\n",
    "    print(values)\n",
    "    for key,value in values.items():\n",
    "        name=values['first_name']+values[\"last_name\"]\n",
    "        age=values['age']\n",
    "    print(name+'\\n'+values[\"city\"])\n",
    "    print(age)"
   ]
  },
  {
   "cell_type": "code",
   "execution_count": 39,
   "metadata": {},
   "outputs": [
    {
     "name": "stdout",
     "output_type": "stream",
     "text": [
      "yintian'favorite place is qingdao\n",
      "['qingdao']\n",
      "sunyiwen'favorite place are\n",
      "\tjinan\n",
      "\tqingdao\n",
      "goutou'favorite place are\n",
      "\tchongqing\n",
      "\tqingdao\n"
     ]
    }
   ],
   "source": [
    "f_places={\n",
    "    'yintian':['qingdao'],\n",
    "    'sunyiwen':['jinan','qingdao'],\n",
    "    'goutou':['chongqing','qingdao'],\n",
    "}\n",
    "for name,places in f_places.items():\n",
    "    if len(places)==1:\n",
    "        \n",
    "        print(name+\"'favorite place is \"+places[0])\n",
    "        print(places)\n",
    "    else :\n",
    "        print(name+\"'favorite place are\" )\n",
    "        for value in places:\n",
    "            print('\\t'+value)\n",
    "    "
   ]
  },
  {
   "cell_type": "code",
   "execution_count": 40,
   "metadata": {},
   "outputs": [
    {
     "name": "stdout",
     "output_type": "stream",
     "text": [
      "qingdao:\n",
      "\tcontry : China\n",
      "\tpopulation : 950\n",
      "\tfact : beer\n",
      "wuhan:\n",
      "\tcontry : China\n",
      "\tpopulation : 1121\n",
      "\tfact : yinghua\n"
     ]
    }
   ],
   "source": [
    "cities={\n",
    "    'qingdao':{\n",
    "        'contry':'China',\n",
    "        'population':'950',\n",
    "        'fact':'beer',\n",
    "    },\n",
    "    'wuhan':{\n",
    "        'contry':'China',\n",
    "        'population':'1121',\n",
    "        'fact':'yinghua',\n",
    "    }\n",
    "}\n",
    "for city , info in cities.items():\n",
    "    print(city+':')\n",
    "    for key ,value in info.items():\n",
    "        print('\\t'+key+' : '+value)\n",
    "    \n"
   ]
  }
 ],
 "metadata": {
  "kernelspec": {
   "display_name": "Python 3",
   "language": "python",
   "name": "python3"
  },
  "language_info": {
   "codemirror_mode": {
    "name": "ipython",
    "version": 3
   },
   "file_extension": ".py",
   "mimetype": "text/x-python",
   "name": "python",
   "nbconvert_exporter": "python",
   "pygments_lexer": "ipython3",
   "version": "3.8.1"
  }
 },
 "nbformat": 4,
 "nbformat_minor": 4
}
