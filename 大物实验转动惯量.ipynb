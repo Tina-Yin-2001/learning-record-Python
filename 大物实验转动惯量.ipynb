{
 "cells": [
  {
   "cell_type": "code",
   "execution_count": 2,
   "metadata": {},
   "outputs": [
    {
     "name": "stdout",
     "output_type": "stream",
     "text": [
      "[-0.08864781080860153, -0.08598404881893183, -0.0839009697552921, -0.08159957026649865]\n",
      "-0.08503309991233103\n"
     ]
    }
   ],
   "source": [
    "#空盘b1(匀减速)\n",
    "from numpy import *\n",
    "a=[6,7,8,9,10,11,12,13]\n",
    "b=[2.4120,2.8210,3.2314,3.6440,4.0579,4.4738,4.8909,5.3101]\n",
    "c=[0,0,0,0]\n",
    "for i in range(0,4):\n",
    "    c[i]=(2*3.14*(a[i]*b[i+4]-a[i+4]*b[i]))/(b[i]*b[i]*b[i+4]-b[i+4]*b[i+4]*b[i])\n",
    "print(c)\n",
    "b1=mean(c)\n",
    "print(mean(c))"
   ]
  },
  {
   "cell_type": "code",
   "execution_count": 3,
   "metadata": {},
   "outputs": [
    {
     "name": "stdout",
     "output_type": "stream",
     "text": [
      "[2.0028849572669145, 2.0016780547029525, 1.9999833839237646, 1.998955484855546]\n",
      "2.0008754701872946\n"
     ]
    }
   ],
   "source": [
    "#空盘b2(匀加速)\n",
    "from numpy import *\n",
    "x=[3,4,5,6,7,8,9,10]\n",
    "y=[1.9513,2.3864,2.7765,3.1338,3.4650,3.7755,4.0683,4.3466]\n",
    "z=[0,0,0,0]\n",
    "for i in range(0,4):\n",
    "    z[i]=(2*3.14*(x[i]*y[i+4]-x[i+4]*y[i]))/(y[i]*y[i]*y[i+4]-y[i+4]*y[i+4]*y[i])\n",
    "print(z)\n",
    "b2=mean(z)\n",
    "print(mean(z))"
   ]
  },
  {
   "cell_type": "code",
   "execution_count": 4,
   "metadata": {},
   "outputs": [
    {
     "name": "stdout",
     "output_type": "stream",
     "text": [
      "0.007681296592429757\n"
     ]
    }
   ],
   "source": [
    "#空盘j1(转动惯量)\n",
    "m=54.851*0.001#单位kg\n",
    "R=30*0.001#单位m\n",
    "g=9.797#单位m/s\n",
    "\n",
    "j=(m*R*(g-R*b2))/(b2-b1)\n",
    "print(j)"
   ]
  },
  {
   "cell_type": "code",
   "execution_count": 5,
   "metadata": {},
   "outputs": [
    {
     "name": "stdout",
     "output_type": "stream",
     "text": [
      "[-0.04865811860614034, -0.04899783535812228, -0.0483948518019896, -0.04763459196275295]\n",
      "-0.04842134943225129\n"
     ]
    }
   ],
   "source": [
    "#空盘b1+圆环(匀减速)\n",
    "from numpy import *\n",
    "a=[6,7,8,9,10,11,12,13]\n",
    "b=[2.1254,2.4818,2.8394,3.1973,3.5563,3.9155,4.2759,4.6363]\n",
    "c=[0,0,0,0]\n",
    "for i in range(0,4):\n",
    "    c[i]=(2*3.14*(a[i]*b[i+4]-a[i+4]*b[i]))/(b[i]*b[i]*b[i+4]-b[i+4]*b[i+4]*b[i])\n",
    "print(c)\n",
    "b1=mean(c)\n",
    "print(mean(c))"
   ]
  },
  {
   "cell_type": "code",
   "execution_count": 6,
   "metadata": {},
   "outputs": [
    {
     "name": "stdout",
     "output_type": "stream",
     "text": [
      "[1.0817632872753564, 1.081257039834358, 1.080506288484255, 1.0802223353572131]\n",
      "1.0809372377377957\n"
     ]
    }
   ],
   "source": [
    "#空盘b2+圆环(匀加速)\n",
    "from numpy import *\n",
    "x=[3,4,5,6,7,8,9,10]\n",
    "y=[2.8380,3.4441,3.9849,4.4788,4.9353,5.3628,5.7653,6.1475]\n",
    "z=[0,0,0,0]\n",
    "for i in range(0,4):\n",
    "    z[i]=(2*3.14*(x[i]*y[i+4]-x[i+4]*y[i]))/(y[i]*y[i]*y[i+4]-y[i+4]*y[i+4]*y[i])\n",
    "print(z)\n",
    "b2=mean(z)\n",
    "print(mean(z))"
   ]
  },
  {
   "cell_type": "code",
   "execution_count": 7,
   "metadata": {},
   "outputs": [
    {
     "name": "stdout",
     "output_type": "stream",
     "text": [
      "0.01422745277979298\n"
     ]
    }
   ],
   "source": [
    "#空盘j1+圆环(转动惯量)\n",
    "m=54.851*0.001#单位kg\n",
    "R=30*0.001#单位m\n",
    "g=9.797#单位m/s\n",
    "\n",
    "j=(m*R*(g-R*b2))/(b2-b1)\n",
    "print(j)"
   ]
  },
  {
   "cell_type": "code",
   "execution_count": 8,
   "metadata": {},
   "outputs": [
    {
     "name": "stdout",
     "output_type": "stream",
     "text": [
      "0.0215859729651446\n",
      "-0.3408936070305288\n"
     ]
    }
   ],
   "source": [
    "#圆环转动惯量计算值+误差e\n",
    "m=419.479*0.001#单位kg\n",
    "r=20.982*0.01#单位m\n",
    "R=24.268*0.01#单位m\n",
    "ja=(m/2)*(r*r+R*R)\n",
    "print(ja)\n",
    "e=(j-ja)/ja\n",
    "print(e)"
   ]
  },
  {
   "cell_type": "code",
   "execution_count": 9,
   "metadata": {},
   "outputs": [
    {
     "name": "stdout",
     "output_type": "stream",
     "text": [
      "[-0.08431795236375139, -0.08306862586991207, -0.08347810240758922, -0.08239561913730066]\n",
      "-0.08331507494463833\n"
     ]
    }
   ],
   "source": [
    "#空盘b1+圆柱45(匀减速)\n",
    "from numpy import *\n",
    "a=[6,7,8,9,10,11,12,13]\n",
    "b=[2.0499,2.3956,2.7419,3.0898,3.4384,3.7884,4.1392,4.4914]\n",
    "c=[0,0,0,0]\n",
    "for i in range(0,4):\n",
    "    c[i]=(2*3.14*(a[i]*b[i+4]-a[i+4]*b[i]))/(b[i]*b[i]*b[i+4]-b[i+4]*b[i+4]*b[i])\n",
    "print(c)\n",
    "b1=mean(c)\n",
    "print(mean(c))"
   ]
  },
  {
   "cell_type": "code",
   "execution_count": 10,
   "metadata": {},
   "outputs": [
    {
     "name": "stdout",
     "output_type": "stream",
     "text": [
      "[1.798299102154518, 1.7958978448476668, 1.793514975943602, 1.7919149831986272]\n",
      "1.7949067265361034\n"
     ]
    }
   ],
   "source": [
    "#空盘b2+圆柱45(匀加速)\n",
    "from numpy import *\n",
    "x=[3,4,5,6,7,8,9,10]\n",
    "y=[2.1459,2.6118,3.0284,3.4093,3.7619,4.0923,4.4036,4.6993]\n",
    "z=[0,0,0,0]\n",
    "for i in range(0,4):\n",
    "    z[i]=(2*3.14*(x[i]*y[i+4]-x[i+4]*y[i]))/(y[i]*y[i]*y[i+4]-y[i+4]*y[i+4]*y[i])\n",
    "print(z)\n",
    "b2=mean(z)\n",
    "print(mean(z))"
   ]
  },
  {
   "cell_type": "code",
   "execution_count": 11,
   "metadata": {},
   "outputs": [
    {
     "name": "stdout",
     "output_type": "stream",
     "text": [
      "0.00853607929126835\n"
     ]
    }
   ],
   "source": [
    "#空盘j1+柱45(转动惯量)\n",
    "m=54.851*0.001#单位kg\n",
    "R=30*0.001#单位m\n",
    "g=9.797#单位m/s\n",
    "\n",
    "j=(m*R*(g-R*b2))/(b2-b1)\n",
    "print(j)"
   ]
  },
  {
   "cell_type": "code",
   "execution_count": 12,
   "metadata": {},
   "outputs": [],
   "source": [
    "#圆环转动惯量计算值+误差e\n",
    "m1=165.498*0.001#单位kg\n",
    "m2=165.693*0.001#单位kg\n",
    "r=3*0.01#单位m\n",
    "R=3*0.01#单位m\n",
    "ja=(m/2)*(r*r+R*R)"
   ]
  },
  {
   "cell_type": "code",
   "execution_count": 13,
   "metadata": {},
   "outputs": [
    {
     "name": "stdout",
     "output_type": "stream",
     "text": [
      "[-0.06913333516587024, -0.06942693649495757, -0.06881492772454667, -0.06813378898128035]\n",
      "-0.06887724709166371\n"
     ]
    }
   ],
   "source": [
    "#空盘b1+圆柱60(匀减速)\n",
    "from numpy import *\n",
    "a=[6,7,8,9,10,11,12,13]\n",
    "b=[2.5058,2.9288,3.3540,3.7806,4.2093,4.6391,5.0710,5.5041]\n",
    "c=[0,0,0,0]\n",
    "for i in range(0,4):\n",
    "    c[i]=(2*3.14*(a[i]*b[i+4]-a[i+4]*b[i]))/(b[i]*b[i]*b[i+4]-b[i+4]*b[i+4]*b[i])\n",
    "print(c)\n",
    "b1=mean(c)\n",
    "print(mean(c))"
   ]
  },
  {
   "cell_type": "code",
   "execution_count": 14,
   "metadata": {},
   "outputs": [
    {
     "name": "stdout",
     "output_type": "stream",
     "text": [
      "[2.427757807178784, -0.010699521711339905, 1.0408981449053891, 1.1961798360427078]\n",
      "1.1635340666038854\n"
     ]
    }
   ],
   "source": [
    "#空盘b2+圆柱60(匀加速)\n",
    "from numpy import *\n",
    "x=[3,4,5,6,7,8,9,10]\n",
    "y=[2,1244,2.5899,3.0267,3.4178,3.7803,4.1204,4.4410,4.7460]\n",
    "z=[0,0,0,0]\n",
    "for i in range(0,4):\n",
    "    z[i]=(2*3.14*(x[i]*y[i+4]-x[i+4]*y[i]))/(y[i]*y[i]*y[i+4]-y[i+4]*y[i+4]*y[i])\n",
    "print(z)\n",
    "b2=mean(z)\n",
    "print(mean(z))"
   ]
  },
  {
   "cell_type": "code",
   "execution_count": 39,
   "metadata": {},
   "outputs": [
    {
     "name": "stdout",
     "output_type": "stream",
     "text": [
      "[-0.046446797404100924, -0.05132200005547081, -0.054526424631492876, -0.05713660324184914]\n",
      "-0.052357956333228435\n"
     ]
    }
   ],
   "source": [
    "#空盘b1+圆柱75(匀减速)\n",
    "from numpy import *\n",
    "a=[6,7,8,9,10,11,12,13]\n",
    "b=[2.1364,2.4944,2.8533,3.2133,3.5742,3.9363,4.2992,4.6634]\n",
    "c=[0,0,0,0]\n",
    "for i in range(0,4):\n",
    "    c[i]=(2*3.14*(a[i]*b[i+4]-a[i+4]*b[i]))/(b[i]*b[i]*b[i+4]-b[i+4]*b[i+4]*b[i])\n",
    "print(c)\n",
    "b1=mean(c)\n",
    "print(mean(c))"
   ]
  },
  {
   "cell_type": "code",
   "execution_count": 40,
   "metadata": {},
   "outputs": [
    {
     "name": "stdout",
     "output_type": "stream",
     "text": [
      "[1.5448724432230905, 1.5429040302257162, 1.5410985774062094, 1.539410938606056]\n",
      "1.542071497365268\n"
     ]
    }
   ],
   "source": [
    "#空盘b2+圆柱75(匀加速)\n",
    "from numpy import *\n",
    "x=[3,4,5,6,7,8,9,10]\n",
    "y=[2.3726,2.8793,3.3318,3.7450,4.1272,4.485,4.8221,5.1423]\n",
    "z=[0,0,0,0]\n",
    "for i in range(0,4):\n",
    "    z[i]=(2*3.14*(x[i]*y[i+4]-x[i+4]*y[i]))/(y[i]*y[i]*y[i+4]-y[i+4]*y[i+4]*y[i])\n",
    "print(z)\n",
    "b2=mean(z)\n",
    "print(mean(z))"
   ]
  },
  {
   "cell_type": "code",
   "execution_count": 41,
   "metadata": {},
   "outputs": [
    {
     "name": "stdout",
     "output_type": "stream",
     "text": [
      "0.010063243391201376\n"
     ]
    }
   ],
   "source": [
    "#空盘j1+柱75(转动惯量)\n",
    "m=54.851*0.001#单位kg\n",
    "R=30*0.001#单位m\n",
    "g=9.797#单位m/s\n",
    "# b2=1.64585\n",
    "# b1=-0.0689\n",
    "j=(m*R*(g-R*b2))/(b2-b1)\n",
    "print(j)"
   ]
  },
  {
   "cell_type": "code",
   "execution_count": 18,
   "metadata": {},
   "outputs": [
    {
     "name": "stdout",
     "output_type": "stream",
     "text": [
      "[-0.07417325736000321, -0.07246765253537958, -0.07287929876481632, -0.07240097346142839]\n",
      "-0.07298029553040687\n"
     ]
    }
   ],
   "source": [
    "#空盘b1+圆柱90(匀减速)\n",
    "from numpy import *\n",
    "a=[6,7,8,9,10,11,12,13]\n",
    "b=[1.9234,2.2470,2.5709,2.8960,3.2215,3.5481,3.8752,4.2035]\n",
    "c=[0,0,0,0]\n",
    "for i in range(0,4):\n",
    "    c[i]=(2*3.14*(a[i]*b[i+4]-a[i+4]*b[i]))/(b[i]*b[i]*b[i+4]-b[i+4]*b[i+4]*b[i])\n",
    "print(c)\n",
    "b1=mean(c)\n",
    "print(mean(c))"
   ]
  },
  {
   "cell_type": "code",
   "execution_count": 19,
   "metadata": {},
   "outputs": [
    {
     "name": "stdout",
     "output_type": "stream",
     "text": [
      "[1.3868538291274963, 1.3874197398504293, 1.3868723782200703, 1.3863378500739583]\n",
      "1.3868709493179885\n"
     ]
    }
   ],
   "source": [
    "#空盘b2+圆柱90(匀加速)\n",
    "from numpy import *\n",
    "x=[3,4,5,6,7,8,9,10]\n",
    "y=[2.4368,2.9673,3.4414,3.8748,4.2756,4.6511,5.005,5.3413]\n",
    "z=[0,0,0,0]\n",
    "for i in range(0,4):\n",
    "    z[i]=(2*3.14*(x[i]*y[i+4]-x[i+4]*y[i]))/(y[i]*y[i]*y[i+4]-y[i+4]*y[i+4]*y[i])\n",
    "print(z)\n",
    "b2=mean(z)\n",
    "print(mean(z))"
   ]
  },
  {
   "cell_type": "code",
   "execution_count": 20,
   "metadata": {},
   "outputs": [
    {
     "name": "stdout",
     "output_type": "stream",
     "text": [
      "0.010996184257848911\n"
     ]
    }
   ],
   "source": [
    "#空盘j1+柱90(转动惯量)\n",
    "m=54.851*0.001#单位kg\n",
    "R=30*0.001#单位m\n",
    "\n",
    "j=(m*R*(g-R*b2))/(b2-b1)\n",
    "print(j)"
   ]
  },
  {
   "cell_type": "code",
   "execution_count": 21,
   "metadata": {},
   "outputs": [
    {
     "name": "stdout",
     "output_type": "stream",
     "text": [
      "[-0.049130115824168166, -0.04923787160837544, -0.04882157144868689, -0.04874095143560503]\n",
      "-0.048982627579208876\n"
     ]
    }
   ],
   "source": [
    "#空盘b1+圆柱105(匀减速)\n",
    "from numpy import *\n",
    "a=[6,7,8,9,10,11,12,13]\n",
    "b=[2.8126,3.2869,3.7633,4.241,4.7207,5.2018,5.6849,6.1694]\n",
    "c=[0,0,0,0]\n",
    "for i in range(0,4):\n",
    "    c[i]=(2*3.14*(a[i]*b[i+4]-a[i+4]*b[i]))/(b[i]*b[i]*b[i+4]-b[i+4]*b[i+4]*b[i])\n",
    "print(c)\n",
    "b1=mean(c)\n",
    "print(mean(c))"
   ]
  },
  {
   "cell_type": "code",
   "execution_count": 22,
   "metadata": {},
   "outputs": [
    {
     "name": "stdout",
     "output_type": "stream",
     "text": [
      "[1.2550435616824103, 1.2545549401965126, 1.2527945075598894, 1.250116289752229]\n",
      "1.2531273247977603\n"
     ]
    }
   ],
   "source": [
    "#空盘b2+圆柱105(匀加速)\n",
    "from numpy import *\n",
    "x=[3,4,5,6,7,8,9,10]\n",
    "y=[2.4174,2.9632,3.453,3.9021,4.3185,4.7094,5.0783,5.4297]\n",
    "z=[0,0,0,0]\n",
    "for i in range(0,4):\n",
    "    z[i]=(2*3.14*(x[i]*y[i+4]-x[i+4]*y[i]))/(y[i]*y[i]*y[i+4]-y[i+4]*y[i+4]*y[i])\n",
    "print(z)\n",
    "b2=mean(z)\n",
    "print(mean(z))"
   ]
  },
  {
   "cell_type": "code",
   "execution_count": 23,
   "metadata": {},
   "outputs": [
    {
     "name": "stdout",
     "output_type": "stream",
     "text": [
      "0.0123333637243773\n"
     ]
    }
   ],
   "source": [
    "#空盘j1+柱105(转动惯量)\n",
    "m=54.851*0.001#单位kg\n",
    "R=30*0.001#单位m\n",
    "\n",
    "j=(m*R*(g-R*b2))/(b2-b1)\n",
    "print(j)"
   ]
  },
  {
   "cell_type": "code",
   "execution_count": null,
   "metadata": {},
   "outputs": [],
   "source": []
  },
  {
   "cell_type": "code",
   "execution_count": 25,
   "metadata": {},
   "outputs": [
    {
     "data": {
      "text/plain": [
       "0.000670661775"
      ]
     },
     "execution_count": 25,
     "metadata": {},
     "output_type": "execute_result"
    }
   ],
   "source": [
    "#转动惯量计算值+误差e\n",
    "m1=165.498*0.001#单位kg\n",
    "m2=165.693*0.001#单位kg\n",
    "r=3*0.01#单位m\n",
    "R=3*0.01#单位m|\n",
    "x=4.5*0.01\n",
    "ja=((m1+m2))*(x*x)\n",
    "ja"
   ]
  },
  {
   "cell_type": "code",
   "execution_count": 33,
   "metadata": {},
   "outputs": [
    {
     "data": {
      "text/plain": [
       "0.007079207625"
      ]
     },
     "execution_count": 33,
     "metadata": {},
     "output_type": "execute_result"
    }
   ],
   "source": [
    "i=9*0.01\n",
    "ja=ja+((m1+m2))*(i*i)\n",
    "ja"
   ]
  },
  {
   "cell_type": "code",
   "execution_count": 61,
   "metadata": {},
   "outputs": [
    {
     "name": "stdout",
     "output_type": "stream",
     "text": [
      "0.0\n",
      "0.21428571428571422\n",
      "0.14285714285714282\n",
      "0.10344827586206909\n",
      "0.21052631578947367\n"
     ]
    }
   ],
   "source": [
    "m1=165.498*0.001#单位kg\n",
    "m2=165.693*0.001#单位kg\n",
    "r=3*0.01#单位m\n",
    "R=3*0.01#单位m\n",
    "i=0\n",
    "o=0\n",
    "j=[0.0008,0.0017,0.0024,0.0032,0.0046]\n",
    "x=[0.0008,0.0014,0.0021,0.0029,0.0038]\n",
    "while i<5:\n",
    "\n",
    "    e=(j[i]-x[i])/x[i]\n",
    "    print(e)\n",
    "    i+=1\n"
   ]
  },
  {
   "cell_type": "code",
   "execution_count": null,
   "metadata": {},
   "outputs": [],
   "source": []
  }
 ],
 "metadata": {
  "kernelspec": {
   "display_name": "Python 3",
   "language": "python",
   "name": "python3"
  },
  "language_info": {
   "codemirror_mode": {
    "name": "ipython",
    "version": 3
   },
   "file_extension": ".py",
   "mimetype": "text/x-python",
   "name": "python",
   "nbconvert_exporter": "python",
   "pygments_lexer": "ipython3",
   "version": "3.9.0"
  }
 },
 "nbformat": 4,
 "nbformat_minor": 4
}
